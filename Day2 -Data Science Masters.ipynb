{
 "cells": [
  {
   "cell_type": "code",
   "execution_count": 1,
   "id": "efb0fd73-0f3c-43c3-a74a-3ec65061003c",
   "metadata": {},
   "outputs": [],
   "source": [
    "a = 10"
   ]
  },
  {
   "cell_type": "code",
   "execution_count": 3,
   "id": "8b127b19-916e-43a0-bceb-609d18748174",
   "metadata": {},
   "outputs": [],
   "source": [
    "a = 'c'"
   ]
  },
  {
   "cell_type": "code",
   "execution_count": 4,
   "id": "923bb9ca-6d83-4449-9a49-38d0b165c2e8",
   "metadata": {},
   "outputs": [
    {
     "data": {
      "text/plain": [
       "'c'"
      ]
     },
     "execution_count": 4,
     "metadata": {},
     "output_type": "execute_result"
    }
   ],
   "source": [
    "a"
   ]
  },
  {
   "cell_type": "code",
   "execution_count": 6,
   "id": "f6744cf4-6788-4eae-a506-03c258614918",
   "metadata": {},
   "outputs": [
    {
     "data": {
      "text/plain": [
       "str"
      ]
     },
     "execution_count": 6,
     "metadata": {},
     "output_type": "execute_result"
    }
   ],
   "source": [
    "type(a)"
   ]
  },
  {
   "cell_type": "code",
   "execution_count": 8,
   "id": "cfbac3b2-4ed4-4080-8a9b-1c8298abcee1",
   "metadata": {},
   "outputs": [
    {
     "data": {
      "text/plain": [
       "123"
      ]
     },
     "execution_count": 8,
     "metadata": {},
     "output_type": "execute_result"
    }
   ],
   "source": [
    "int('123')"
   ]
  },
  {
   "cell_type": "code",
   "execution_count": 9,
   "id": "5cb11844-83b9-4ccf-a9e2-cbab5d5d575b",
   "metadata": {},
   "outputs": [
    {
     "ename": "ValueError",
     "evalue": "invalid literal for int() with base 10: 'abcd'",
     "output_type": "error",
     "traceback": [
      "\u001b[0;31m---------------------------------------------------------------------------\u001b[0m",
      "\u001b[0;31mValueError\u001b[0m                                Traceback (most recent call last)",
      "Cell \u001b[0;32mIn[9], line 1\u001b[0m\n\u001b[0;32m----> 1\u001b[0m \u001b[38;5;28;43mint\u001b[39;49m\u001b[43m(\u001b[49m\u001b[38;5;124;43m'\u001b[39;49m\u001b[38;5;124;43mabcd\u001b[39;49m\u001b[38;5;124;43m'\u001b[39;49m\u001b[43m)\u001b[49m\n",
      "\u001b[0;31mValueError\u001b[0m: invalid literal for int() with base 10: 'abcd'"
     ]
    }
   ],
   "source": [
    "int('abcd')"
   ]
  },
  {
   "cell_type": "code",
   "execution_count": 10,
   "id": "ef69f5ea-7ebc-4169-818a-54b0e135cded",
   "metadata": {},
   "outputs": [
    {
     "name": "stdout",
     "output_type": "stream",
     "text": [
      "a\n"
     ]
    }
   ],
   "source": [
    "print('a')"
   ]
  },
  {
   "cell_type": "code",
   "execution_count": 11,
   "id": "cc01e60b-2054-4fdb-ab40-3826e6070b44",
   "metadata": {},
   "outputs": [
    {
     "name": "stdout",
     "output_type": "stream",
     "text": [
      "123\n"
     ]
    }
   ],
   "source": [
    "print(123)"
   ]
  },
  {
   "cell_type": "code",
   "execution_count": 14,
   "id": "d4f0cd1c-04bd-4b26-b505-03afdb01c518",
   "metadata": {},
   "outputs": [
    {
     "name": "stdout",
     "output_type": "stream",
     "text": [
      "my age is: 32\n"
     ]
    }
   ],
   "source": [
    "age = 32\n",
    "print(\"my age is:\",age)"
   ]
  },
  {
   "cell_type": "code",
   "execution_count": 17,
   "id": "c474cb7f-be2c-43a4-a7df-df4d744c0c73",
   "metadata": {},
   "outputs": [
    {
     "name": "stdout",
     "output_type": "stream",
     "text": [
      "My age is: 32\n"
     ]
    }
   ],
   "source": [
    "#f string\n",
    "print(f\"My age is: {age}\")"
   ]
  },
  {
   "cell_type": "code",
   "execution_count": 19,
   "id": "e524ec46-a92c-4847-b951-fe28d5b09d2d",
   "metadata": {},
   "outputs": [
    {
     "name": "stdout",
     "output_type": "stream",
     "text": [
      "My age is: 32\n"
     ]
    }
   ],
   "source": [
    "## format way\n",
    "print(\"My age is: {0}\".format(age))"
   ]
  },
  {
   "cell_type": "code",
   "execution_count": 22,
   "id": "82e3318e-3da5-49e9-9f61-aef3a0e74da2",
   "metadata": {},
   "outputs": [
    {
     "name": "stdout",
     "output_type": "stream",
     "text": [
      "My name is tejas my age is 37\n"
     ]
    }
   ],
   "source": [
    "name = 'tejas'\n",
    "age = 37\n",
    "print('My name is {} my age is {}'.format(name,age))"
   ]
  },
  {
   "cell_type": "code",
   "execution_count": 24,
   "id": "49a0d156-3732-4b9d-87ae-72b7aa79d930",
   "metadata": {},
   "outputs": [
    {
     "name": "stdout",
     "output_type": "stream",
     "text": [
      "My name is tejas my age is 37\n"
     ]
    }
   ],
   "source": [
    "print('My name is {1} my age is {0}'.format(age,name))"
   ]
  },
  {
   "cell_type": "code",
   "execution_count": 25,
   "id": "8bf6918f-d27c-4940-bc19-0ff9c57690d4",
   "metadata": {},
   "outputs": [
    {
     "name": "stdout",
     "output_type": "stream",
     "text": [
      "My name is tejas my age is 37\n"
     ]
    }
   ],
   "source": [
    "print('My name is {firstname} my age is {firstage}'.format(firstage = age,firstname = name))"
   ]
  },
  {
   "cell_type": "code",
   "execution_count": 26,
   "id": "cf9260ac-3cfe-472b-a7a3-8b3afbc031a6",
   "metadata": {},
   "outputs": [
    {
     "name": "stdout",
     "output_type": "stream",
     "text": [
      "My age is 37 and i have completed: my degree MD Forensic Medicine with the name of tejas\n"
     ]
    }
   ],
   "source": [
    "name = 'tejas'\n",
    "age = 37\n",
    "degree = 'MD Forensic Medicine'\n",
    "print(\"My age is {} and i have completed: my degree {} with the name of {}\".format(age,degree,name))"
   ]
  },
  {
   "cell_type": "markdown",
   "id": "8eec135e-24b8-465a-b2c4-7fc87569bbf4",
   "metadata": {},
   "source": [
    "## Control flow\n",
    "### Decision Making statements - \n",
    "1. if\n",
    "2. if else\n",
    "3. if elif else\n",
    "4. Nested if\n",
    "5. Single Statement Suites"
   ]
  },
  {
   "cell_type": "code",
   "execution_count": 33,
   "id": "f7abd843-1717-41b6-ac10-adaaad960b7e",
   "metadata": {},
   "outputs": [
    {
     "name": "stdout",
     "output_type": "stream",
     "text": [
      "You are eligible to vote\n"
     ]
    }
   ],
   "source": [
    "## If Statements\n",
    "age = 18\n",
    "if age>=18:\n",
    "    print('You are eligible to vote')\n",
    "else:\n",
    "    print(\"You are not eligible to vote\")"
   ]
  },
  {
   "cell_type": "code",
   "execution_count": 38,
   "id": "8876bb02-7034-4fe2-8d8a-741d31fd4b07",
   "metadata": {},
   "outputs": [
    {
     "name": "stdout",
     "output_type": "stream",
     "text": [
      "You are not eligible to vote\n"
     ]
    }
   ],
   "source": [
    "age = 17\n",
    "if age<18:\n",
    "    print('You are not eligible to vote')"
   ]
  },
  {
   "cell_type": "code",
   "execution_count": 40,
   "id": "752c5301-298d-4712-bb11-59782fd52881",
   "metadata": {},
   "outputs": [
    {
     "name": "stdin",
     "output_type": "stream",
     "text": [
      " 13\n"
     ]
    },
    {
     "name": "stdout",
     "output_type": "stream",
     "text": [
      "You are not eligible to vote\n"
     ]
    }
   ],
   "source": [
    "a = int(input())\n",
    "if age>=18:\n",
    "    print('You are eligible to vote')\n",
    "else:\n",
    "    print(\"You are not eligible to vote\")"
   ]
  },
  {
   "cell_type": "code",
   "execution_count": 41,
   "id": "c7072b45-1cc9-4ffe-9976-3f0675a04553",
   "metadata": {},
   "outputs": [
    {
     "name": "stdin",
     "output_type": "stream",
     "text": [
      "Enter the name tejas\n"
     ]
    }
   ],
   "source": [
    "name = input(\"Enter the name\")\n"
   ]
  },
  {
   "cell_type": "code",
   "execution_count": 42,
   "id": "1b2b9b16-fc2b-4398-9208-10db63d2fbb7",
   "metadata": {},
   "outputs": [
    {
     "data": {
      "text/plain": [
       "'tejas'"
      ]
     },
     "execution_count": 42,
     "metadata": {},
     "output_type": "execute_result"
    }
   ],
   "source": [
    "name"
   ]
  },
  {
   "cell_type": "code",
   "execution_count": 44,
   "id": "67c0da80-2664-4ae3-89eb-82187e383103",
   "metadata": {},
   "outputs": [
    {
     "name": "stdin",
     "output_type": "stream",
     "text": [
      "Enter your age 37\n"
     ]
    }
   ],
   "source": [
    "age = int(input('Enter your age'))"
   ]
  },
  {
   "cell_type": "code",
   "execution_count": 46,
   "id": "1b1ae899-7bd1-4b82-9bba-4ebf680b4458",
   "metadata": {},
   "outputs": [
    {
     "data": {
      "text/plain": [
       "int"
      ]
     },
     "execution_count": 46,
     "metadata": {},
     "output_type": "execute_result"
    }
   ],
   "source": [
    "type(age)"
   ]
  },
  {
   "cell_type": "code",
   "execution_count": 58,
   "id": "0a0d6526-b703-420f-a33d-90751af21117",
   "metadata": {},
   "outputs": [
    {
     "name": "stdin",
     "output_type": "stream",
     "text": [
      "Enter your age 22\n"
     ]
    },
    {
     "name": "stdout",
     "output_type": "stream",
     "text": [
      "You are young blood\n"
     ]
    }
   ],
   "source": [
    "age = int(input('Enter your age'))\n",
    "\n",
    "if age>=18 and age<=45:\n",
    "    print(\"You are young blood\")"
   ]
  },
  {
   "cell_type": "code",
   "execution_count": 52,
   "id": "c92671ea-4596-483a-b0dd-6b5823fba9df",
   "metadata": {},
   "outputs": [
    {
     "data": {
      "text/plain": [
       "True"
      ]
     },
     "execution_count": 52,
     "metadata": {},
     "output_type": "execute_result"
    }
   ],
   "source": [
    "22<=45"
   ]
  },
  {
   "cell_type": "code",
   "execution_count": 57,
   "id": "751ca41f-07b9-46e6-acb1-ce31072118a1",
   "metadata": {},
   "outputs": [
    {
     "data": {
      "text/plain": [
       "True"
      ]
     },
     "execution_count": 57,
     "metadata": {},
     "output_type": "execute_result"
    }
   ],
   "source": [
    "22>=18"
   ]
  },
  {
   "cell_type": "markdown",
   "id": "aa116d95-8e4f-47f3-9ccb-fb101aad358b",
   "metadata": {},
   "source": [
    "## if else statement"
   ]
  },
  {
   "cell_type": "code",
   "execution_count": 62,
   "id": "e18e015a-c441-4dd0-8267-40cdc8e46a65",
   "metadata": {},
   "outputs": [
    {
     "name": "stdin",
     "output_type": "stream",
     "text": [
      "Enter your age 55\n"
     ]
    },
    {
     "name": "stdout",
     "output_type": "stream",
     "text": [
      "Thank you we will let you know\n"
     ]
    }
   ],
   "source": [
    "age = int(input('Enter your age'))\n",
    "\n",
    "if age>=18 and age<=45:\n",
    "    print(\"You are young blood\")\n",
    "else:\n",
    "    print(\"Thank you we will let you know\")"
   ]
  },
  {
   "cell_type": "code",
   "execution_count": 72,
   "id": "cde07c52-50fb-46f8-afa3-21e9c8ff6cea",
   "metadata": {},
   "outputs": [
    {
     "name": "stdin",
     "output_type": "stream",
     "text": [
      "Enter product price 20\n"
     ]
    },
    {
     "name": "stdout",
     "output_type": "stream",
     "text": [
      "The price of the product is 14.0\n"
     ]
    }
   ],
   "source": [
    "price = int(input('Enter product price'))\n",
    "if price>1000:\n",
    "    #price = price - (0.2*price)\n",
    "    print(F\"The price of the product is {price*0.8}\")\n",
    "else:\n",
    "    #price = price - (0.3*price)\n",
    "    print(\"The price of the product is {}\".format(price*0.7))"
   ]
  },
  {
   "cell_type": "code",
   "execution_count": 90,
   "id": "7137c745-6112-44ef-9fb6-afad16866c9c",
   "metadata": {},
   "outputs": [
    {
     "name": "stdin",
     "output_type": "stream",
     "text": [
      "Enter product price 55\n"
     ]
    },
    {
     "name": "stdout",
     "output_type": "stream",
     "text": [
      "Let's drink tea\n",
      "I will also be there\n"
     ]
    }
   ],
   "source": [
    "price = int(input('Enter product price'))\n",
    "if price>3000:\n",
    "    if price == 4000:\n",
    "        print(\"Congratulations!! You will get a trip to Goa\")\n",
    "    print(f\"The price of the product is {price*0.8}\")\n",
    "elif price>=2000 and price<=3000:\n",
    "    if price == 2999:\n",
    "        print(\"Congratulations!! You will get additional gift\")\n",
    "    print(f\"The price of the product is {price*0.7}\")\n",
    "elif price>=100 and price<2000:\n",
    "    print(f\"The price of the product is {price*0.6}\")\n",
    "else:\n",
    "    print('Let\\'s drink tea')\n",
    "    print('I will also be there')"
   ]
  },
  {
   "cell_type": "markdown",
   "id": "c0566eee-88f1-4d81-9a92-b216a6a2cc86",
   "metadata": {},
   "source": [
    "## single statement suits"
   ]
  },
  {
   "cell_type": "code",
   "execution_count": 92,
   "id": "0b5af754-78fc-461f-8f38-ae8c9d95878a",
   "metadata": {},
   "outputs": [
    {
     "name": "stdin",
     "output_type": "stream",
     "text": [
      "Enter the number: 1000\n"
     ]
    },
    {
     "name": "stdout",
     "output_type": "stream",
     "text": [
      "Go home\n"
     ]
    }
   ],
   "source": [
    "val = int(input('Enter the number:'))\n",
    "if (val<=999):print(\"Value is less than equal to 999\")\n",
    "else:print(\"Go home\")"
   ]
  },
  {
   "cell_type": "code",
   "execution_count": null,
   "id": "d971af8e-2c43-426d-8985-a0ade4f96d51",
   "metadata": {},
   "outputs": [],
   "source": []
  }
 ],
 "metadata": {
  "kernelspec": {
   "display_name": "Python 3 (ipykernel)",
   "language": "python",
   "name": "python3"
  },
  "language_info": {
   "codemirror_mode": {
    "name": "ipython",
    "version": 3
   },
   "file_extension": ".py",
   "mimetype": "text/x-python",
   "name": "python",
   "nbconvert_exporter": "python",
   "pygments_lexer": "ipython3",
   "version": "3.10.8"
  }
 },
 "nbformat": 4,
 "nbformat_minor": 5
}
