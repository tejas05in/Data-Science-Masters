{
 "cells": [
  {
   "cell_type": "code",
   "execution_count": 1,
   "id": "efb0fd73-0f3c-43c3-a74a-3ec65061003c",
   "metadata": {},
   "outputs": [],
   "source": [
    "a = 10"
   ]
  },
  {
   "cell_type": "code",
   "execution_count": 3,
   "id": "8b127b19-916e-43a0-bceb-609d18748174",
   "metadata": {},
   "outputs": [],
   "source": [
    "a = 'c'"
   ]
  },
  {
   "cell_type": "code",
   "execution_count": 4,
   "id": "923bb9ca-6d83-4449-9a49-38d0b165c2e8",
   "metadata": {},
   "outputs": [
    {
     "data": {
      "text/plain": [
       "'c'"
      ]
     },
     "execution_count": 4,
     "metadata": {},
     "output_type": "execute_result"
    }
   ],
   "source": [
    "a"
   ]
  },
  {
   "cell_type": "code",
   "execution_count": 6,
   "id": "f6744cf4-6788-4eae-a506-03c258614918",
   "metadata": {},
   "outputs": [
    {
     "data": {
      "text/plain": [
       "str"
      ]
     },
     "execution_count": 6,
     "metadata": {},
     "output_type": "execute_result"
    }
   ],
   "source": [
    "type(a)"
   ]
  },
  {
   "cell_type": "code",
   "execution_count": 8,
   "id": "cfbac3b2-4ed4-4080-8a9b-1c8298abcee1",
   "metadata": {},
   "outputs": [
    {
     "data": {
      "text/plain": [
       "123"
      ]
     },
     "execution_count": 8,
     "metadata": {},
     "output_type": "execute_result"
    }
   ],
   "source": [
    "int('123')"
   ]
  },
  {
   "cell_type": "code",
   "execution_count": 9,
   "id": "5cb11844-83b9-4ccf-a9e2-cbab5d5d575b",
   "metadata": {},
   "outputs": [
    {
     "ename": "ValueError",
     "evalue": "invalid literal for int() with base 10: 'abcd'",
     "output_type": "error",
     "traceback": [
      "\u001b[0;31m---------------------------------------------------------------------------\u001b[0m",
      "\u001b[0;31mValueError\u001b[0m                                Traceback (most recent call last)",
      "Cell \u001b[0;32mIn[9], line 1\u001b[0m\n\u001b[0;32m----> 1\u001b[0m \u001b[38;5;28;43mint\u001b[39;49m\u001b[43m(\u001b[49m\u001b[38;5;124;43m'\u001b[39;49m\u001b[38;5;124;43mabcd\u001b[39;49m\u001b[38;5;124;43m'\u001b[39;49m\u001b[43m)\u001b[49m\n",
      "\u001b[0;31mValueError\u001b[0m: invalid literal for int() with base 10: 'abcd'"
     ]
    }
   ],
   "source": [
    "int('abcd')"
   ]
  },
  {
   "cell_type": "code",
   "execution_count": 10,
   "id": "ef69f5ea-7ebc-4169-818a-54b0e135cded",
   "metadata": {},
   "outputs": [
    {
     "name": "stdout",
     "output_type": "stream",
     "text": [
      "a\n"
     ]
    }
   ],
   "source": [
    "print('a')"
   ]
  },
  {
   "cell_type": "code",
   "execution_count": 11,
   "id": "cc01e60b-2054-4fdb-ab40-3826e6070b44",
   "metadata": {},
   "outputs": [
    {
     "name": "stdout",
     "output_type": "stream",
     "text": [
      "123\n"
     ]
    }
   ],
   "source": [
    "print(123)"
   ]
  },
  {
   "cell_type": "code",
   "execution_count": 14,
   "id": "d4f0cd1c-04bd-4b26-b505-03afdb01c518",
   "metadata": {},
   "outputs": [
    {
     "name": "stdout",
     "output_type": "stream",
     "text": [
      "my age is: 32\n"
     ]
    }
   ],
   "source": [
    "age = 32\n",
    "print(\"my age is:\",age)"
   ]
  },
  {
   "cell_type": "code",
   "execution_count": 17,
   "id": "c474cb7f-be2c-43a4-a7df-df4d744c0c73",
   "metadata": {},
   "outputs": [
    {
     "name": "stdout",
     "output_type": "stream",
     "text": [
      "My age is: 32\n"
     ]
    }
   ],
   "source": [
    "#f string\n",
    "print(f\"My age is: {age}\")"
   ]
  },
  {
   "cell_type": "code",
   "execution_count": 19,
   "id": "e524ec46-a92c-4847-b951-fe28d5b09d2d",
   "metadata": {},
   "outputs": [
    {
     "name": "stdout",
     "output_type": "stream",
     "text": [
      "My age is: 32\n"
     ]
    }
   ],
   "source": [
    "## format way\n",
    "print(\"My age is: {0}\".format(age))"
   ]
  },
  {
   "cell_type": "code",
   "execution_count": 22,
   "id": "82e3318e-3da5-49e9-9f61-aef3a0e74da2",
   "metadata": {},
   "outputs": [
    {
     "name": "stdout",
     "output_type": "stream",
     "text": [
      "My name is tejas my age is 37\n"
     ]
    }
   ],
   "source": [
    "name = 'tejas'\n",
    "age = 37\n",
    "print('My name is {} my age is {}'.format(name,age))"
   ]
  },
  {
   "cell_type": "code",
   "execution_count": 24,
   "id": "49a0d156-3732-4b9d-87ae-72b7aa79d930",
   "metadata": {},
   "outputs": [
    {
     "name": "stdout",
     "output_type": "stream",
     "text": [
      "My name is tejas my age is 37\n"
     ]
    }
   ],
   "source": [
    "print('My name is {1} my age is {0}'.format(age,name))"
   ]
  },
  {
   "cell_type": "code",
   "execution_count": 25,
   "id": "8bf6918f-d27c-4940-bc19-0ff9c57690d4",
   "metadata": {},
   "outputs": [
    {
     "name": "stdout",
     "output_type": "stream",
     "text": [
      "My name is tejas my age is 37\n"
     ]
    }
   ],
   "source": [
    "print('My name is {firstname} my age is {firstage}'.format(firstage = age,firstname = name))"
   ]
  },
  {
   "cell_type": "code",
   "execution_count": 26,
   "id": "cf9260ac-3cfe-472b-a7a3-8b3afbc031a6",
   "metadata": {},
   "outputs": [
    {
     "name": "stdout",
     "output_type": "stream",
     "text": [
      "My age is 37 and i have completed: my degree MD Forensic Medicine with the name of tejas\n"
     ]
    }
   ],
   "source": [
    "name = 'tejas'\n",
    "age = 37\n",
    "degree = 'MD Forensic Medicine'\n",
    "print(\"My age is {} and i have completed: my degree {} with the name of {}\".format(age,degree,name))"
   ]
  },
  {
   "cell_type": "markdown",
   "id": "8eec135e-24b8-465a-b2c4-7fc87569bbf4",
   "metadata": {},
   "source": [
    "## Control flow\n",
    "### Decision Making statements - \n",
    "1. if\n",
    "2. if else\n",
    "3. if elif else\n",
    "4. Nested if\n",
    "5. Single Statement Suites"
   ]
  },
  {
   "cell_type": "code",
   "execution_count": 33,
   "id": "f7abd843-1717-41b6-ac10-adaaad960b7e",
   "metadata": {},
   "outputs": [
    {
     "name": "stdout",
     "output_type": "stream",
     "text": [
      "You are eligible to vote\n"
     ]
    }
   ],
   "source": [
    "## If Statements\n",
    "age = 18\n",
    "if age>=18:\n",
    "    print('You are eligible to vote')\n",
    "else:\n",
    "    print(\"You are not eligible to vote\")"
   ]
  },
  {
   "cell_type": "code",
   "execution_count": 38,
   "id": "8876bb02-7034-4fe2-8d8a-741d31fd4b07",
   "metadata": {},
   "outputs": [
    {
     "name": "stdout",
     "output_type": "stream",
     "text": [
      "You are not eligible to vote\n"
     ]
    }
   ],
   "source": [
    "age = 17\n",
    "if age<18:\n",
    "    print('You are not eligible to vote')"
   ]
  },
  {
   "cell_type": "code",
   "execution_count": 40,
   "id": "752c5301-298d-4712-bb11-59782fd52881",
   "metadata": {},
   "outputs": [
    {
     "name": "stdin",
     "output_type": "stream",
     "text": [
      " 13\n"
     ]
    },
    {
     "name": "stdout",
     "output_type": "stream",
     "text": [
      "You are not eligible to vote\n"
     ]
    }
   ],
   "source": [
    "a = int(input())\n",
    "if age>=18:\n",
    "    print('You are eligible to vote')\n",
    "else:\n",
    "    print(\"You are not eligible to vote\")"
   ]
  },
  {
   "cell_type": "code",
   "execution_count": 41,
   "id": "c7072b45-1cc9-4ffe-9976-3f0675a04553",
   "metadata": {},
   "outputs": [
    {
     "name": "stdin",
     "output_type": "stream",
     "text": [
      "Enter the name tejas\n"
     ]
    }
   ],
   "source": [
    "name = input(\"Enter the name\")\n"
   ]
  },
  {
   "cell_type": "code",
   "execution_count": 42,
   "id": "1b2b9b16-fc2b-4398-9208-10db63d2fbb7",
   "metadata": {},
   "outputs": [
    {
     "data": {
      "text/plain": [
       "'tejas'"
      ]
     },
     "execution_count": 42,
     "metadata": {},
     "output_type": "execute_result"
    }
   ],
   "source": [
    "name"
   ]
  },
  {
   "cell_type": "code",
   "execution_count": 44,
   "id": "67c0da80-2664-4ae3-89eb-82187e383103",
   "metadata": {},
   "outputs": [
    {
     "name": "stdin",
     "output_type": "stream",
     "text": [
      "Enter your age 37\n"
     ]
    }
   ],
   "source": [
    "age = int(input('Enter your age'))"
   ]
  },
  {
   "cell_type": "code",
   "execution_count": 46,
   "id": "1b1ae899-7bd1-4b82-9bba-4ebf680b4458",
   "metadata": {},
   "outputs": [
    {
     "data": {
      "text/plain": [
       "int"
      ]
     },
     "execution_count": 46,
     "metadata": {},
     "output_type": "execute_result"
    }
   ],
   "source": [
    "type(age)"
   ]
  },
  {
   "cell_type": "code",
   "execution_count": 58,
   "id": "0a0d6526-b703-420f-a33d-90751af21117",
   "metadata": {},
   "outputs": [
    {
     "name": "stdin",
     "output_type": "stream",
     "text": [
      "Enter your age 22\n"
     ]
    },
    {
     "name": "stdout",
     "output_type": "stream",
     "text": [
      "You are young blood\n"
     ]
    }
   ],
   "source": [
    "age = int(input('Enter your age'))\n",
    "\n",
    "if age>=18 and age<=45:\n",
    "    print(\"You are young blood\")"
   ]
  },
  {
   "cell_type": "code",
   "execution_count": 52,
   "id": "c92671ea-4596-483a-b0dd-6b5823fba9df",
   "metadata": {},
   "outputs": [
    {
     "data": {
      "text/plain": [
       "True"
      ]
     },
     "execution_count": 52,
     "metadata": {},
     "output_type": "execute_result"
    }
   ],
   "source": [
    "22<=45"
   ]
  },
  {
   "cell_type": "code",
   "execution_count": 57,
   "id": "751ca41f-07b9-46e6-acb1-ce31072118a1",
   "metadata": {},
   "outputs": [
    {
     "data": {
      "text/plain": [
       "True"
      ]
     },
     "execution_count": 57,
     "metadata": {},
     "output_type": "execute_result"
    }
   ],
   "source": [
    "22>=18"
   ]
  },
  {
   "cell_type": "markdown",
   "id": "aa116d95-8e4f-47f3-9ccb-fb101aad358b",
   "metadata": {},
   "source": [
    "## if else statement"
   ]
  },
  {
   "cell_type": "code",
   "execution_count": 62,
   "id": "e18e015a-c441-4dd0-8267-40cdc8e46a65",
   "metadata": {},
   "outputs": [
    {
     "name": "stdin",
     "output_type": "stream",
     "text": [
      "Enter your age 55\n"
     ]
    },
    {
     "name": "stdout",
     "output_type": "stream",
     "text": [
      "Thank you we will let you know\n"
     ]
    }
   ],
   "source": [
    "age = int(input('Enter your age'))\n",
    "\n",
    "if age>=18 and age<=45:\n",
    "    print(\"You are young blood\")\n",
    "else:\n",
    "    print(\"Thank you we will let you know\")"
   ]
  },
  {
   "cell_type": "code",
   "execution_count": 72,
   "id": "cde07c52-50fb-46f8-afa3-21e9c8ff6cea",
   "metadata": {},
   "outputs": [
    {
     "name": "stdin",
     "output_type": "stream",
     "text": [
      "Enter product price 20\n"
     ]
    },
    {
     "name": "stdout",
     "output_type": "stream",
     "text": [
      "The price of the product is 14.0\n"
     ]
    }
   ],
   "source": [
    "price = int(input('Enter product price'))\n",
    "if price>1000:\n",
    "    #price = price - (0.2*price)\n",
    "    print(F\"The price of the product is {price*0.8}\")\n",
    "else:\n",
    "    #price = price - (0.3*price)\n",
    "    print(\"The price of the product is {}\".format(price*0.7))"
   ]
  },
  {
   "cell_type": "code",
   "execution_count": 90,
   "id": "7137c745-6112-44ef-9fb6-afad16866c9c",
   "metadata": {},
   "outputs": [
    {
     "name": "stdin",
     "output_type": "stream",
     "text": [
      "Enter product price 55\n"
     ]
    },
    {
     "name": "stdout",
     "output_type": "stream",
     "text": [
      "Let's drink tea\n",
      "I will also be there\n"
     ]
    }
   ],
   "source": [
    "price = int(input('Enter product price'))\n",
    "if price>3000:\n",
    "    if price == 4000:\n",
    "        print(\"Congratulations!! You will get a trip to Goa\")\n",
    "    print(f\"The price of the product is {price*0.8}\")\n",
    "elif price>=2000 and price<=3000:\n",
    "    if price == 2999:\n",
    "        print(\"Congratulations!! You will get additional gift\")\n",
    "    print(f\"The price of the product is {price*0.7}\")\n",
    "elif price>=100 and price<2000:\n",
    "    print(f\"The price of the product is {price*0.6}\")\n",
    "else:\n",
    "    print('Let\\'s drink tea')\n",
    "    print('I will also be there')"
   ]
  },
  {
   "cell_type": "markdown",
   "id": "c0566eee-88f1-4d81-9a92-b216a6a2cc86",
   "metadata": {},
   "source": [
    "## single statement suits"
   ]
  },
  {
   "cell_type": "code",
   "execution_count": 92,
   "id": "0b5af754-78fc-461f-8f38-ae8c9d95878a",
   "metadata": {},
   "outputs": [
    {
     "name": "stdin",
     "output_type": "stream",
     "text": [
      "Enter the number: 1000\n"
     ]
    },
    {
     "name": "stdout",
     "output_type": "stream",
     "text": [
      "Go home\n"
     ]
    }
   ],
   "source": [
    "val = int(input('Enter the number:'))\n",
    "if (val<=999):print(\"Value is less than equal to 999\")\n",
    "else:print(\"Go home\")"
   ]
  },
  {
   "cell_type": "markdown",
   "id": "84703cb7-171a-49fd-be46-fd9b287afaa7",
   "metadata": {},
   "source": [
    "# Loop statements\n",
    "1. While loop\n",
    "2. For loop\n",
    "3. Nested Loop\n",
    "4. Loop control(break,continue,pass)"
   ]
  },
  {
   "cell_type": "code",
   "execution_count": 99,
   "id": "dd1e9280-f09d-4589-8bae-1470aeaa3b26",
   "metadata": {},
   "outputs": [
    {
     "name": "stdout",
     "output_type": "stream",
     "text": [
      "26\n",
      "27\n",
      "28\n",
      "29\n",
      "30\n",
      "31\n",
      "32\n",
      "33\n",
      "34\n",
      "35\n",
      "36\n",
      "37\n",
      "38\n",
      "39\n",
      "40\n",
      "41\n",
      "42\n",
      "43\n",
      "44\n",
      "45\n",
      "46\n",
      "47\n",
      "48\n",
      "49\n",
      "50\n",
      "51\n",
      "52\n",
      "53\n",
      "54\n",
      "55\n",
      "56\n",
      "57\n",
      "58\n",
      "59\n",
      "60\n",
      "61\n",
      "Its time for retirement\n"
     ]
    }
   ],
   "source": [
    "# while loop while-else\n",
    "joining_age = 25\n",
    "\n",
    "while joining_age <= 60:\n",
    "    joining_age+=1\n",
    "    print(joining_age)\n",
    "else:\n",
    "    print(\"Its time for retirement\")"
   ]
  },
  {
   "cell_type": "code",
   "execution_count": 108,
   "id": "f4e6cef6-1c14-488f-b2b9-1ac45a7d8740",
   "metadata": {},
   "outputs": [
    {
     "name": "stdout",
     "output_type": "stream",
     "text": [
      "1000\n",
      "900\n",
      "800\n",
      "700\n",
      "600\n",
      "500\n",
      "400\n",
      "300\n",
      "200\n",
      "100\n",
      "Put more money bank people\n",
      "Hello\n"
     ]
    }
   ],
   "source": [
    "total_amount = 1000\n",
    "while total_amount != 0:\n",
    "    print(total_amount)\n",
    "    total_amount = total_amount - 100\n",
    "    \n",
    "else:\n",
    "    print('Put more money bank people')\n",
    "\n",
    "print('Hello')"
   ]
  },
  {
   "cell_type": "markdown",
   "id": "40be442b-acd0-44ca-8da5-dd008b17bbec",
   "metadata": {},
   "source": [
    "# For loop"
   ]
  },
  {
   "cell_type": "code",
   "execution_count": 109,
   "id": "e838c262-04d9-446a-8a66-32dc49d4272a",
   "metadata": {},
   "outputs": [],
   "source": [
    "lst = [\"Tejas\",1,2,3,4,\"Apple\",\"Banana\"]"
   ]
  },
  {
   "cell_type": "code",
   "execution_count": 110,
   "id": "2226afbf-9363-4361-ad29-3f4a68014ef5",
   "metadata": {},
   "outputs": [
    {
     "data": {
      "text/plain": [
       "list"
      ]
     },
     "execution_count": 110,
     "metadata": {},
     "output_type": "execute_result"
    }
   ],
   "source": [
    "type(lst)"
   ]
  },
  {
   "cell_type": "code",
   "execution_count": 112,
   "id": "47eca832-30f1-4344-be4f-fbf267d99d37",
   "metadata": {},
   "outputs": [
    {
     "data": {
      "text/plain": [
       "'Tejas'"
      ]
     },
     "execution_count": 112,
     "metadata": {},
     "output_type": "execute_result"
    }
   ],
   "source": [
    "lst[0]"
   ]
  },
  {
   "cell_type": "code",
   "execution_count": 118,
   "id": "e8aca31b-056b-497a-a8d4-7f396bee8337",
   "metadata": {},
   "outputs": [
    {
     "name": "stdout",
     "output_type": "stream",
     "text": [
      "Tejas\n",
      "1\n",
      "2\n",
      "3\n",
      "4\n",
      "Apple\n",
      "Banana\n"
     ]
    }
   ],
   "source": [
    "for item in lst:\n",
    "    print(item)"
   ]
  },
  {
   "cell_type": "code",
   "execution_count": 119,
   "id": "5e3b421a-63ea-4762-acbe-660d8ead4b16",
   "metadata": {},
   "outputs": [],
   "source": [
    "fruits_list = [\"Mango\",\"Cherry\",\"Apple\",\"Papaya\",\"Banana\"]"
   ]
  },
  {
   "cell_type": "code",
   "execution_count": 125,
   "id": "50b944a9-5839-49ef-af06-cf34f098c9ab",
   "metadata": {},
   "outputs": [
    {
     "name": "stdout",
     "output_type": "stream",
     "text": [
      "Mango\n",
      "Cherry\n",
      "The fruit is cherry\n",
      "Apple\n",
      "Papaya\n",
      "Banana\n"
     ]
    }
   ],
   "source": [
    "for a in fruits_list:\n",
    "    print(a)\n",
    "    if a==\"Cherry\":\n",
    "        print(\"The fruit is cherry\")"
   ]
  },
  {
   "cell_type": "code",
   "execution_count": 134,
   "id": "7c2c072c-2c75-4adf-b0e6-ac92316d913b",
   "metadata": {},
   "outputs": [
    {
     "name": "stdout",
     "output_type": "stream",
     "text": [
      "m\n",
      "a\n",
      "n\n",
      "g\n",
      "o\n"
     ]
    }
   ],
   "source": [
    "fruit = 'mango'\n",
    "for x in fruit:\n",
    "    print(x)"
   ]
  },
  {
   "cell_type": "code",
   "execution_count": 131,
   "id": "7357531b-9913-4d87-9e0a-d2b03fe435c8",
   "metadata": {},
   "outputs": [
    {
     "data": {
      "text/plain": [
       "'n'"
      ]
     },
     "execution_count": 131,
     "metadata": {},
     "output_type": "execute_result"
    }
   ],
   "source": [
    "fruit[2]"
   ]
  },
  {
   "cell_type": "markdown",
   "id": "0fa397c4-3685-4b60-919b-e331c690bb1a",
   "metadata": {},
   "source": [
    "### nested for loop"
   ]
  },
  {
   "cell_type": "code",
   "execution_count": 137,
   "id": "60f59511-6df9-4e34-ba5c-aae820b59ffb",
   "metadata": {},
   "outputs": [],
   "source": [
    "n = 7\n"
   ]
  },
  {
   "cell_type": "code",
   "execution_count": 142,
   "id": "5b272dc9-b525-4843-8043-271bcb50d6c3",
   "metadata": {},
   "outputs": [
    {
     "name": "stdout",
     "output_type": "stream",
     "text": [
      "1\n",
      "2\n",
      "3\n",
      "4\n",
      "5\n",
      "6\n",
      "7\n",
      "8\n",
      "9\n"
     ]
    }
   ],
   "source": [
    "for i in range(1,10):\n",
    "    print(i)"
   ]
  },
  {
   "cell_type": "code",
   "execution_count": 144,
   "id": "e7b2519f-79b2-481c-8f5d-718f7aa57605",
   "metadata": {},
   "outputs": [
    {
     "name": "stdout",
     "output_type": "stream",
     "text": [
      "1\n",
      "3\n",
      "5\n",
      "7\n",
      "9\n"
     ]
    }
   ],
   "source": [
    "#range\n",
    "for i in range(1,10,2):\n",
    "    print(i)"
   ]
  },
  {
   "cell_type": "code",
   "execution_count": 145,
   "id": "c1359d40-c18c-4a38-908e-151a3e5449d9",
   "metadata": {},
   "outputs": [],
   "source": [
    "## Nested Loops"
   ]
  },
  {
   "cell_type": "code",
   "execution_count": 154,
   "id": "47573e0c-cb2b-42ca-a216-46f004a8941b",
   "metadata": {},
   "outputs": [
    {
     "name": "stdout",
     "output_type": "stream",
     "text": [
      "*\n",
      "**\n",
      "***\n",
      "****\n",
      "*****\n",
      "******\n",
      "*******\n"
     ]
    }
   ],
   "source": [
    "n=7\n",
    "\n",
    "for i in range(n):\n",
    "    for j in range(i+1):\n",
    "        print(\"*\",end=\"\")\n",
    "    print('\\r')"
   ]
  },
  {
   "cell_type": "code",
   "execution_count": 37,
   "id": "ed6e30be-e979-4462-9dc9-21be8eac87bb",
   "metadata": {
    "tags": []
   },
   "outputs": [
    {
     "name": "stdout",
     "output_type": "stream",
     "text": [
      "          *\n",
      "         ***\n",
      "        *****\n",
      "       *******\n",
      "      *********\n",
      "     ***********\n",
      "    *************\n",
      "   ***************\n",
      "  *****************\n",
      " *******************\n",
      " *******************\n",
      "  *****************\n",
      "   ***************\n",
      "    *************\n",
      "     ***********\n",
      "      *********\n",
      "       *******\n",
      "        *****\n",
      "         ***\n",
      "          *\n"
     ]
    }
   ],
   "source": [
    "n = 10\n",
    "for i in range(n):\n",
    "    print(\" \"*(n-i),end='')\n",
    "    for j in range(i*2+1):\n",
    "        print(\"*\",end=\"\")\n",
    "    print()\n",
    "for i in range(n):\n",
    "    print(\" \"*(i+1),end='')\n",
    "    for j in range(n*2-i*2-1):\n",
    "        print(\"*\",end=\"\")\n",
    "    print()"
   ]
  },
  {
   "cell_type": "code",
   "execution_count": 155,
   "id": "1ea4ed62-3d59-477e-b44d-7a14919fe11f",
   "metadata": {},
   "outputs": [
    {
     "data": {
      "text/plain": [
       "['Mango', 'Cherry', 'Apple', 'Papaya', 'Banana']"
      ]
     },
     "execution_count": 155,
     "metadata": {},
     "output_type": "execute_result"
    }
   ],
   "source": [
    "### Loop control\n",
    "## Break and continue\n",
    "\n",
    "fruits_list"
   ]
  },
  {
   "cell_type": "code",
   "execution_count": 158,
   "id": "4b03bb4f-8bee-437d-865c-b147a80c4455",
   "metadata": {},
   "outputs": [
    {
     "name": "stdout",
     "output_type": "stream",
     "text": [
      "Mango\n",
      "Cherry\n",
      "The fruit is apple\n"
     ]
    }
   ],
   "source": [
    "for i in fruits_list:\n",
    "    if i=='Apple':\n",
    "        print('The fruit is apple')\n",
    "        break\n",
    "    print(i)"
   ]
  },
  {
   "cell_type": "code",
   "execution_count": 159,
   "id": "689218b9-10f2-4b87-ac3c-e7e35e7e75ae",
   "metadata": {},
   "outputs": [
    {
     "name": "stdout",
     "output_type": "stream",
     "text": [
      "Mango\n",
      "Cherry\n",
      "The fruit is apple\n",
      "Apple\n",
      "Papaya\n",
      "Banana\n"
     ]
    }
   ],
   "source": [
    "for i in fruits_list:\n",
    "    if i=='Apple':\n",
    "        print('The fruit is apple')\n",
    "        pass\n",
    "    print(i)"
   ]
  },
  {
   "cell_type": "code",
   "execution_count": 160,
   "id": "d971af8e-2c43-426d-8985-a0ade4f96d51",
   "metadata": {},
   "outputs": [
    {
     "name": "stdout",
     "output_type": "stream",
     "text": [
      "Mango\n",
      "Cherry\n",
      "The fruit is apple\n",
      "Papaya\n",
      "Banana\n"
     ]
    }
   ],
   "source": [
    "for i in fruits_list:\n",
    "    if i=='Apple':\n",
    "        print('The fruit is apple')\n",
    "        continue\n",
    "    print(i)"
   ]
  },
  {
   "cell_type": "code",
   "execution_count": 163,
   "id": "05720f14-c5f6-4259-abfd-7354bd3548d7",
   "metadata": {},
   "outputs": [
    {
     "name": "stdout",
     "output_type": "stream",
     "text": [
      "0\n",
      "1\n",
      "2\n",
      "3\n",
      "4\n"
     ]
    }
   ],
   "source": [
    "for i in range(5):\n",
    "    print(i)"
   ]
  },
  {
   "cell_type": "code",
   "execution_count": null,
   "id": "3dbcad49-a770-4f18-9e4f-bf2470dba527",
   "metadata": {},
   "outputs": [],
   "source": []
  }
 ],
 "metadata": {
  "kernelspec": {
   "display_name": "Python 3 (ipykernel)",
   "language": "python",
   "name": "python3"
  },
  "language_info": {
   "codemirror_mode": {
    "name": "ipython",
    "version": 3
   },
   "file_extension": ".py",
   "mimetype": "text/x-python",
   "name": "python",
   "nbconvert_exporter": "python",
   "pygments_lexer": "ipython3",
   "version": "3.10.8"
  }
 },
 "nbformat": 4,
 "nbformat_minor": 5
}
